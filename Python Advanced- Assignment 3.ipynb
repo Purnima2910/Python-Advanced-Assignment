{
 "cells": [
  {
   "cell_type": "code",
   "execution_count": null,
   "metadata": {},
   "outputs": [],
   "source": [
    "# 1. What is the concept of an abstract superclass?\n",
    "\n",
    "# An abstract class in Python is typically created to declare a set of methods that must be created in any child class built on top of this abstract class\n",
    "# An abstract class can be considered a blueprint for other classes. It allows you to create a set of methods that must be created within any child classes built from the abstract class.\n",
    "# A class that contains one or more abstract methods is called an abstract class."
   ]
  },
  {
   "cell_type": "code",
   "execution_count": null,
   "metadata": {},
   "outputs": [],
   "source": [
    "# 2. What happens when a class statement's top level contains a basic assignment statement?"
   ]
  },
  {
   "cell_type": "code",
   "execution_count": null,
   "metadata": {},
   "outputs": [],
   "source": [
    "# 3. Why does a class need to manually call a superclass's __init__ method?\n",
    "\n",
    "# The __init__() method is a special method in Python classes that are called when an object is created. \n",
    "# The super() function is often used with the __init__() method to initialize the attributes of the parent class.\n",
    "\n",
    "# Super() is used when we nedd to build classes(child class) that extend the functionality of previously build classes(parent class)\n",
    "# Super function in python is used to access method of immediate parent class\n",
    "\n",
    "# When you intialize a child class in python you can  call super().__init__() method, this initilize the parent class object into child class"
   ]
  },
  {
   "cell_type": "code",
   "execution_count": null,
   "metadata": {},
   "outputs": [],
   "source": [
    "# 4. How can you augment, instead of completely replacing, an inherited method?\n",
    "\n",
    "#Each method that is inherited from a superclass can be augmented to perform some different action in the new class. \n",
    "# If there is no augmentation then the inherited methods will perform as defined in the superclass.\n",
    "# An inherited method is augmented simply by creating a new definition for the method in your class definition"
   ]
  },
  {
   "cell_type": "code",
   "execution_count": null,
   "metadata": {},
   "outputs": [],
   "source": [
    "# 5. How is the local scope of a class different from that of a function?\n",
    "\n",
    "# A variable created inside a function belongs to the local scope of that function, and can only be used inside that function.\n",
    "# When a class definition is entered, a new namespace is created, and used as the local scope — thus, all assignments to local variables go into this new namespace. \n",
    "# In particular, function definitions bind the name of the new function here."
   ]
  }
 ],
 "metadata": {
  "kernelspec": {
   "display_name": "base",
   "language": "python",
   "name": "python3"
  },
  "language_info": {
   "name": "python",
   "version": "3.11.7"
  }
 },
 "nbformat": 4,
 "nbformat_minor": 2
}
