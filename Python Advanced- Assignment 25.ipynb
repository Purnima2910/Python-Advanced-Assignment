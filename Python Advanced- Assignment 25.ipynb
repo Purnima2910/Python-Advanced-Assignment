{
 "cells": [
  {
   "cell_type": "markdown",
   "metadata": {},
   "source": [
    "Q1. What is the distinction between a numpy array and a pandas data frame? Is there a way to convert between the two if there is?\n",
    "\n",
    "Answer: \n",
    "- The Pandas module mainly works with the tabular data, whereas the NumPy module works with the numerical data.\n",
    "-  NumPy library provides objects for multi-dimensional arrays, whereas Pandas is capable of offering an in-memory 2d table object called DataFrame.\n",
    "- NumPy consumes less memory as compared to Pandas."
   ]
  },
  {
   "cell_type": "code",
   "execution_count": 2,
   "metadata": {},
   "outputs": [
    {
     "name": "stdout",
     "output_type": "stream",
     "text": [
      "Collecting pandasNote: you may need to restart the kernel to use updated packages.\n",
      "\n",
      "  Downloading pandas-2.2.2-cp311-cp311-win_amd64.whl.metadata (19 kB)\n",
      "Requirement already satisfied: numpy>=1.23.2 in c:\\users\\divya\\appdata\\local\\packages\\pythonsoftwarefoundation.python.3.11_qbz5n2kfra8p0\\localcache\\local-packages\\python311\\site-packages (from pandas) (2.0.0)\n",
      "Requirement already satisfied: python-dateutil>=2.8.2 in c:\\users\\divya\\appdata\\local\\packages\\pythonsoftwarefoundation.python.3.11_qbz5n2kfra8p0\\localcache\\local-packages\\python311\\site-packages (from pandas) (2.9.0.post0)\n",
      "Collecting pytz>=2020.1 (from pandas)\n",
      "  Downloading pytz-2024.1-py2.py3-none-any.whl.metadata (22 kB)\n",
      "Collecting tzdata>=2022.7 (from pandas)\n",
      "  Downloading tzdata-2024.1-py2.py3-none-any.whl.metadata (1.4 kB)\n",
      "Requirement already satisfied: six>=1.5 in c:\\users\\divya\\appdata\\local\\packages\\pythonsoftwarefoundation.python.3.11_qbz5n2kfra8p0\\localcache\\local-packages\\python311\\site-packages (from python-dateutil>=2.8.2->pandas) (1.16.0)\n",
      "Downloading pandas-2.2.2-cp311-cp311-win_amd64.whl (11.6 MB)\n",
      "   ---------------------------------------- 0.0/11.6 MB ? eta -:--:--\n",
      "   ---------------------------------------- 0.1/11.6 MB 1.7 MB/s eta 0:00:08\n",
      "    --------------------------------------- 0.2/11.6 MB 2.4 MB/s eta 0:00:05\n",
      "    --------------------------------------- 0.2/11.6 MB 1.7 MB/s eta 0:00:07\n",
      "    --------------------------------------- 0.3/11.6 MB 1.4 MB/s eta 0:00:09\n",
      "   - -------------------------------------- 0.5/11.6 MB 2.1 MB/s eta 0:00:06\n",
      "   -- ------------------------------------- 0.7/11.6 MB 2.7 MB/s eta 0:00:04\n",
      "   --- ------------------------------------ 1.0/11.6 MB 3.1 MB/s eta 0:00:04\n",
      "   ---- ----------------------------------- 1.3/11.6 MB 3.6 MB/s eta 0:00:03\n",
      "   ----- ---------------------------------- 1.5/11.6 MB 3.8 MB/s eta 0:00:03\n",
      "   ----- ---------------------------------- 1.7/11.6 MB 3.8 MB/s eta 0:00:03\n",
      "   ------ --------------------------------- 1.9/11.6 MB 3.8 MB/s eta 0:00:03\n",
      "   ------- -------------------------------- 2.1/11.6 MB 3.7 MB/s eta 0:00:03\n",
      "   ------- -------------------------------- 2.3/11.6 MB 3.8 MB/s eta 0:00:03\n",
      "   -------- ------------------------------- 2.4/11.6 MB 3.8 MB/s eta 0:00:03\n",
      "   --------- ------------------------------ 2.6/11.6 MB 3.8 MB/s eta 0:00:03\n",
      "   --------- ------------------------------ 2.8/11.6 MB 3.8 MB/s eta 0:00:03\n",
      "   ---------- ----------------------------- 3.0/11.6 MB 3.8 MB/s eta 0:00:03\n",
      "   ---------- ----------------------------- 3.2/11.6 MB 3.8 MB/s eta 0:00:03\n",
      "   ----------- ---------------------------- 3.4/11.6 MB 3.8 MB/s eta 0:00:03\n",
      "   ------------ --------------------------- 3.5/11.6 MB 3.8 MB/s eta 0:00:03\n",
      "   ------------ --------------------------- 3.7/11.6 MB 3.8 MB/s eta 0:00:03\n",
      "   ------------- -------------------------- 3.9/11.6 MB 3.8 MB/s eta 0:00:03\n",
      "   ------------- -------------------------- 4.1/11.6 MB 3.8 MB/s eta 0:00:02\n",
      "   -------------- ------------------------- 4.2/11.6 MB 3.8 MB/s eta 0:00:02\n",
      "   --------------- ------------------------ 4.4/11.6 MB 3.8 MB/s eta 0:00:02\n",
      "   --------------- ------------------------ 4.6/11.6 MB 3.8 MB/s eta 0:00:02\n",
      "   ---------------- ----------------------- 4.8/11.6 MB 3.9 MB/s eta 0:00:02\n",
      "   ----------------- ---------------------- 5.1/11.6 MB 3.8 MB/s eta 0:00:02\n",
      "   ------------------ --------------------- 5.3/11.6 MB 3.8 MB/s eta 0:00:02\n",
      "   -------------------- ------------------- 6.1/11.6 MB 3.8 MB/s eta 0:00:02\n",
      "   --------------------- ------------------ 6.3/11.6 MB 3.8 MB/s eta 0:00:02\n",
      "   ---------------------- ----------------- 6.5/11.6 MB 3.9 MB/s eta 0:00:02\n",
      "   ---------------------- ----------------- 6.6/11.6 MB 3.9 MB/s eta 0:00:02\n",
      "   ----------------------- ---------------- 6.8/11.6 MB 3.9 MB/s eta 0:00:02\n",
      "   ------------------------ --------------- 7.0/11.6 MB 3.8 MB/s eta 0:00:02\n",
      "   ------------------------ --------------- 7.2/11.6 MB 3.9 MB/s eta 0:00:02\n",
      "   ------------------------- -------------- 7.4/11.6 MB 3.9 MB/s eta 0:00:02\n",
      "   ------------------------- -------------- 7.5/11.6 MB 3.8 MB/s eta 0:00:02\n",
      "   -------------------------- ------------- 7.7/11.6 MB 3.9 MB/s eta 0:00:02\n",
      "   -------------------------- ------------- 7.8/11.6 MB 3.9 MB/s eta 0:00:01\n",
      "   -------------------------- ------------- 7.8/11.6 MB 3.9 MB/s eta 0:00:01\n",
      "   -------------------------- ------------- 7.8/11.6 MB 3.9 MB/s eta 0:00:01\n",
      "   ---------------------------- ----------- 8.2/11.6 MB 3.7 MB/s eta 0:00:01\n",
      "   ---------------------------- ----------- 8.3/11.6 MB 3.7 MB/s eta 0:00:01\n",
      "   ------------------------------ --------- 8.8/11.6 MB 3.9 MB/s eta 0:00:01\n",
      "   ------------------------------ --------- 9.0/11.6 MB 3.9 MB/s eta 0:00:01\n",
      "   ------------------------------- -------- 9.2/11.6 MB 3.9 MB/s eta 0:00:01\n",
      "   -------------------------------- ------- 9.4/11.6 MB 3.9 MB/s eta 0:00:01\n",
      "   -------------------------------- ------- 9.5/11.6 MB 3.9 MB/s eta 0:00:01\n",
      "   --------------------------------- ------ 9.7/11.6 MB 3.9 MB/s eta 0:00:01\n",
      "   ---------------------------------- ----- 9.9/11.6 MB 3.9 MB/s eta 0:00:01\n",
      "   ---------------------------------- ----- 10.1/11.6 MB 3.9 MB/s eta 0:00:01\n",
      "   ----------------------------------- ---- 10.3/11.6 MB 3.9 MB/s eta 0:00:01\n",
      "   ----------------------------------- ---- 10.5/11.6 MB 4.0 MB/s eta 0:00:01\n",
      "   ------------------------------------ --- 10.6/11.6 MB 4.0 MB/s eta 0:00:01\n",
      "   ------------------------------------- -- 10.8/11.6 MB 4.0 MB/s eta 0:00:01\n",
      "   ------------------------------------- -- 11.0/11.6 MB 4.0 MB/s eta 0:00:01\n",
      "   -------------------------------------- - 11.2/11.6 MB 4.0 MB/s eta 0:00:01\n",
      "   ---------------------------------------  11.4/11.6 MB 3.9 MB/s eta 0:00:01\n",
      "   ---------------------------------------  11.6/11.6 MB 3.9 MB/s eta 0:00:01\n",
      "   ---------------------------------------  11.6/11.6 MB 3.9 MB/s eta 0:00:01\n",
      "   ---------------------------------------- 11.6/11.6 MB 3.8 MB/s eta 0:00:00\n",
      "Downloading pytz-2024.1-py2.py3-none-any.whl (505 kB)\n",
      "   ---------------------------------------- 0.0/505.5 kB ? eta -:--:--\n",
      "   --------------------- ------------------ 266.2/505.5 kB 8.3 MB/s eta 0:00:01\n",
      "   ---------------------------------------  501.8/505.5 kB 7.9 MB/s eta 0:00:01\n",
      "   ---------------------------------------- 505.5/505.5 kB 5.3 MB/s eta 0:00:00\n",
      "Downloading tzdata-2024.1-py2.py3-none-any.whl (345 kB)\n",
      "   ---------------------------------------- 0.0/345.4 kB ? eta -:--:--\n",
      "   ------------------------------------ --- 317.4/345.4 kB 9.9 MB/s eta 0:00:01\n",
      "   ---------------------------------------- 345.4/345.4 kB 5.4 MB/s eta 0:00:00\n",
      "Installing collected packages: pytz, tzdata, pandas\n",
      "Successfully installed pandas-2.2.2 pytz-2024.1 tzdata-2024.1\n"
     ]
    }
   ],
   "source": [
    "pip install pandas"
   ]
  },
  {
   "cell_type": "code",
   "execution_count": 4,
   "metadata": {},
   "outputs": [
    {
     "name": "stdout",
     "output_type": "stream",
     "text": [
      "[[  15. 2006.]\n",
      " [  25. 1996.]\n",
      " [  35. 1986.]\n",
      " [  45.   nan]]\n",
      "<class 'numpy.ndarray'>\n"
     ]
    }
   ],
   "source": [
    "import pandas as pd\n",
    "import numpy as np\n",
    "\n",
    "data = {'Age': [15,25,35,45],\n",
    "        'Birth Year': [2006,1996,1986, np.nan]\n",
    "        }\n",
    "\n",
    "df = pd.DataFrame(data, columns = ['Age','Birth Year'])\n",
    "\n",
    "numpy_array = df.to_numpy()\n",
    "\n",
    "print(numpy_array)\n",
    "\n",
    "print(type(numpy_array))"
   ]
  },
  {
   "cell_type": "markdown",
   "metadata": {},
   "source": [
    "Q2. What can go wrong when an user enters in a stock-ticker symbol, and how do you handle it?\n",
    "\n",
    "Answer: Ticker symbols aren't static and can change in the event of a merger, name change, or delisting. we can implement a try except else and finally block to deal with it.\n",
    "\n",
    "Q3. Identify some of the plotting techniques that are used to produce a stock-market chart.\n",
    "\n",
    "Answer: The main chart types used by most traders are the Line Chart, Candlestick Chart, Renko Chart, and Point and Figure charts. Using matplotlib we can make charts."
   ]
  },
  {
   "cell_type": "code",
   "execution_count": 5,
   "metadata": {},
   "outputs": [
    {
     "data": {
      "image/png": "[encoded data removed]",
      "text/plain": [
       "<Figure size 640x480 with 1 Axes>"
      ]
     },
     "metadata": {},
     "output_type": "display_data"
    }
   ],
   "source": [
    "import matplotlib.pyplot as plt\n",
    "import numpy as np\n",
    "\n",
    "x = np.array([1, 2, 3, 4])\n",
    "y = x*2\n",
    "\n",
    "# first plot with X and Y data\n",
    "plt.plot(x, y)\n",
    "\n",
    "x1 = [2, 4, 6, 8]\n",
    "y1 = [3, 5, 7, 9]\n",
    "\n",
    "# second plot with x1 and y1 data\n",
    "plt.plot(x1, y1, '-.')\n",
    "\n",
    "plt.xlabel(\"X-axis data\")\n",
    "plt.ylabel(\"Y-axis data\")\n",
    "plt.title('multiple plots')\n",
    "plt.show()"
   ]
  },
  {
   "cell_type": "markdown",
   "metadata": {},
   "source": [
    "Q4. Why is it essential to print a legend on a stock market chart?\n",
    "\n",
    "Answer: legend helps end user to identify the growth of a particular stock by seeing a chart. its crucial in data analytics.\n",
    "\n",
    "Q5. What is the best way to limit the length of a pandas data frame to less than a year?\n",
    "\n",
    "Answer: truncate() function is used to truncate a Series or DataFrame before and after some index value. This is a useful shorthand for boolean indexing based on index values above or below certain thresholds.\n",
    "\n",
    "Q6. What is the definition of a 180-day moving average?\n",
    "\n",
    "Answer: a moving average is an indicator that shows the average value of a stock's price over a period (i.e. 10 days, 50 days, 180 days, 200 days, etc) and is usually plotted along with the closing price.\n",
    "\n",
    "Q7. Did the chapter's final example use \"indirect\" importing? If so, how exactly do you do it?\n",
    "\n",
    "Answer: I didn't get the questioon which importing it is talking bout."
   ]
  },
  {
   "cell_type": "code",
   "execution_count": null,
   "metadata": {},
   "outputs": [],
   "source": []
  }
 ],
 "metadata": {
  "kernelspec": {
   "display_name": "Python 3",
   "language": "python",
   "name": "python3"
  },
  "language_info": {
   "codemirror_mode": {
    "name": "ipython",
    "version": 3
   },
   "file_extension": ".py",
   "mimetype": "text/x-python",
   "name": "python",
   "nbconvert_exporter": "python",
   "pygments_lexer": "ipython3",
   "version": "3.11.9"
  }
 },
 "nbformat": 4,
 "nbformat_minor": 2
}
