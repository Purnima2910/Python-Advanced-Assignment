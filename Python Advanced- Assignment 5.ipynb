{
 "cells": [
  {
   "cell_type": "markdown",
   "metadata": {},
   "source": [
    "Q1. What is the meaning of multiple inheritance?\n",
    "\n",
    "Multiple inheritance means that a subclass can inherit from two or more superclasses.\n",
    "Multiple Inheritance- Parent class, Parent class, one child class"
   ]
  },
  {
   "cell_type": "code",
   "execution_count": 1,
   "metadata": {},
   "outputs": [],
   "source": [
    "class Parent1:\n",
    "    def func1(self):\n",
    "        print(\"Hello from parent1\")\n",
    "    \n",
    "class Parent2:\n",
    "    def func2(self):\n",
    "        print(\"Hello from parent2\")\n",
    "           \n",
    "    \n",
    "class Child(Parent1,Parent2):\n",
    "    def func3(self):\n",
    "        print(\"Hello child\")"
   ]
  },
  {
   "cell_type": "code",
   "execution_count": 2,
   "metadata": {},
   "outputs": [],
   "source": [
    "test1= Child()"
   ]
  },
  {
   "cell_type": "code",
   "execution_count": 3,
   "metadata": {},
   "outputs": [
    {
     "name": "stdout",
     "output_type": "stream",
     "text": [
      "Hello from parent1\n"
     ]
    }
   ],
   "source": [
    "test1.func1()"
   ]
  },
  {
   "cell_type": "markdown",
   "metadata": {},
   "source": [
    " Q2. What is the concept of delegation?\n",
    "\n",
    " Delegation is an object oriented technique (also called a design pattern). \n",
    " Let's say we have an object x and want to change the behaviour of just one of its methods. we can create a new class that provides a new implementation of the method we're interested in changing and delegates all other methods to the corresponding method of x.\n",
    "Delegation can be imlemented easily. For example, the following class implements a class that behaves like a file but converts all written data to uppercase:"
   ]
  },
  {
   "cell_type": "markdown",
   "metadata": {},
   "source": [
    "Q3. What is the concept of composition?\n",
    "\n",
    " It is one of the fundamental concepts of Object-Oriented Programming. In this concept, we describe a class that references to one or more objects of other classes as an Instance variable. \n",
    " Here, by using the class name or by creating the object we can access the members of one class inside another class. \n",
    " It enables creating complex types by combining objects of different classes. \n",
    " It means that a class Composite can contain an object of another class Component. This type of relationship is known as Has-A Relation.\n",
    "\n",
    " class A : # variables of class A # methods of class A ... ... class B : # by using \"obj\" we can access member's of class A. obj = A() # variables of class B # methods of class B ... ..."
   ]
  },
  {
   "cell_type": "markdown",
   "metadata": {},
   "source": [
    "Q4. What are bound methods and how do we use them?\n",
    "\n",
    "Answer: A bound method is the one which is dependent on the instance of the class as the first argument. It passes the instance as the first argument which is used to access the variables and functions. In Python 3 and newer versions of python, all functions in the class are by default bound methods."
   ]
  },
  {
   "cell_type": "markdown",
   "metadata": {},
   "source": [
    "Q5. What is the purpose of pseudoprivate attributes?\n",
    "\n",
    "Answer: Pseudoprivate attributes are useful in larger frameworks or tools, both to avoid introducing new method names that might accidentally hide definitions elsewhere in the class tree and to reduce the chance of internal methods being replaced by names defined lower in the tree."
   ]
  }
 ],
 "metadata": {
  "kernelspec": {
   "display_name": "base",
   "language": "python",
   "name": "python3"
  },
  "language_info": {
   "codemirror_mode": {
    "name": "ipython",
    "version": 3
   },
   "file_extension": ".py",
   "mimetype": "text/x-python",
   "name": "python",
   "nbconvert_exporter": "python",
   "pygments_lexer": "ipython3",
   "version": "3.11.7"
  }
 },
 "nbformat": 4,
 "nbformat_minor": 2
}
