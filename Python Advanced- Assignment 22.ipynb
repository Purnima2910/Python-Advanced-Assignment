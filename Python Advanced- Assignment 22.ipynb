{
 "cells": [
  {
   "cell_type": "markdown",
   "metadata": {},
   "source": [
    "Q1. What are the benefits of the built-in array package, if any?\n",
    "\n",
    "Answer: The Array is much more rigid. That is, the items that an array contains must be of the same type. Therefore, the size of the item will also be the same. We can check the size of each item.\n",
    "\n",
    "Q2. What are some of the array package's limitations?\n",
    "\n",
    "Answer: An array which is formed will be homogeneous.\n",
    "\n",
    "While declaring an array, passing size of an array is compulsory, and the size must be a constant.\n",
    "\n",
    "Shifting is required for insertion or deletion of elements in an array\n",
    "\n",
    "Q3. Describe the main differences between the array and numpy packages.\n",
    "\n",
    "Answer: A numpy array is a grid of values, all of the same type, and is indexed by a tuple of nonnegative integers. A list is the Python equivalent of an array, but is resizeable and can contain elements of different types. The answer to above query the main difference in two is of performance.\n",
    "\n",
    "Q4. Explain the distinctions between the empty, ones, and zeros functions.\n",
    "\n",
    "Answer: The only difference between numpy.empty numpy.ones and numpy.zeros is that empty uses malloc and zeros uses calloc. Also zeros() and ones() are the NumPy library functions to create two different arrays. zeros() function is used to create an array based on the particular shape and type. All array elements are initialized to 0, which is created by the zeros() function. ones() function works like the zeros() function.\n",
    "\n",
    "Q5. In the fromfunction function, which is used to construct new arrays, what is the role of the callable argument?\n",
    "\n",
    "Answer: fromfunction() function construct an array by executing a function over each coordinate and the resulting array, therefore, has a value fn(x, y, z) at coordinate (x, y, z). Parameters : function : [callable] The function is called with N parameters, where N is the rank of shape.\n",
    "\n",
    "Q6. What happens when a numpy array is combined with a single-value operand (a scalar, such as an int or a floating-point value) through addition, as in the expression A + n?\n",
    "\n",
    "Answer:"
   ]
  },
  {
   "cell_type": "code",
   "execution_count": 5,
   "metadata": {},
   "outputs": [
    {
     "name": "stdout",
     "output_type": "stream",
     "text": [
      "Collecting numpyNote: you may need to restart the kernel to use updated packages.\n",
      "\n",
      "  Downloading numpy-2.0.0-cp311-cp311-win_amd64.whl.metadata (60 kB)\n",
      "     ---------------------------------------- 0.0/60.9 kB ? eta -:--:--\n",
      "     ------ --------------------------------- 10.2/60.9 kB ? eta -:--:--\n",
      "     ------------ ------------------------- 20.5/60.9 kB 162.5 kB/s eta 0:00:01\n",
      "     ------------------- ------------------ 30.7/60.9 kB 186.2 kB/s eta 0:00:01\n",
      "     ------------------------------- ------ 51.2/60.9 kB 260.9 kB/s eta 0:00:01\n",
      "     -------------------------------------- 60.9/60.9 kB 269.5 kB/s eta 0:00:00\n",
      "Downloading numpy-2.0.0-cp311-cp311-win_amd64.whl (16.5 MB)\n",
      "   ---------------------------------------- 0.0/16.5 MB ? eta -:--:--\n",
      "   ---------------------------------------- 0.1/16.5 MB 1.7 MB/s eta 0:00:10\n",
      "    --------------------------------------- 0.3/16.5 MB 2.8 MB/s eta 0:00:06\n",
      "   - -------------------------------------- 0.6/16.5 MB 4.1 MB/s eta 0:00:04\n",
      "   -- ------------------------------------- 0.9/16.5 MB 4.5 MB/s eta 0:00:04\n",
      "   -- ------------------------------------- 1.2/16.5 MB 4.9 MB/s eta 0:00:04\n",
      "   --- ------------------------------------ 1.3/16.5 MB 4.7 MB/s eta 0:00:04\n",
      "   --- ------------------------------------ 1.5/16.5 MB 4.6 MB/s eta 0:00:04\n",
      "   ---- ----------------------------------- 1.7/16.5 MB 4.5 MB/s eta 0:00:04\n",
      "   ---- ----------------------------------- 1.9/16.5 MB 4.6 MB/s eta 0:00:04\n",
      "   ---- ----------------------------------- 2.1/16.5 MB 4.4 MB/s eta 0:00:04\n",
      "   ----- ---------------------------------- 2.2/16.5 MB 4.3 MB/s eta 0:00:04\n",
      "   ----- ---------------------------------- 2.4/16.5 MB 4.3 MB/s eta 0:00:04\n",
      "   ------ --------------------------------- 2.6/16.5 MB 4.3 MB/s eta 0:00:04\n",
      "   ------ --------------------------------- 2.8/16.5 MB 4.3 MB/s eta 0:00:04\n",
      "   ------- -------------------------------- 3.0/16.5 MB 4.2 MB/s eta 0:00:04\n",
      "   ------- -------------------------------- 3.2/16.5 MB 4.2 MB/s eta 0:00:04\n",
      "   -------- ------------------------------- 3.3/16.5 MB 4.2 MB/s eta 0:00:04\n",
      "   -------- ------------------------------- 3.5/16.5 MB 4.2 MB/s eta 0:00:04\n",
      "   -------- ------------------------------- 3.6/16.5 MB 4.2 MB/s eta 0:00:04\n",
      "   -------- ------------------------------- 3.6/16.5 MB 4.2 MB/s eta 0:00:04\n",
      "   -------- ------------------------------- 3.6/16.5 MB 3.7 MB/s eta 0:00:04\n",
      "   --------- ------------------------------ 3.8/16.5 MB 3.8 MB/s eta 0:00:04\n",
      "   ---------- ----------------------------- 4.3/16.5 MB 4.1 MB/s eta 0:00:03\n",
      "   ----------- ---------------------------- 4.6/16.5 MB 4.1 MB/s eta 0:00:03\n",
      "   ----------- ---------------------------- 4.8/16.5 MB 4.1 MB/s eta 0:00:03\n",
      "   ------------ --------------------------- 5.0/16.5 MB 4.1 MB/s eta 0:00:03\n",
      "   ------------ --------------------------- 5.1/16.5 MB 4.1 MB/s eta 0:00:03\n",
      "   ------------ --------------------------- 5.3/16.5 MB 4.1 MB/s eta 0:00:03\n",
      "   ------------- -------------------------- 5.5/16.5 MB 4.1 MB/s eta 0:00:03\n",
      "   ------------- -------------------------- 5.7/16.5 MB 4.1 MB/s eta 0:00:03\n",
      "   -------------- ------------------------- 5.9/16.5 MB 4.1 MB/s eta 0:00:03\n",
      "   -------------- ------------------------- 6.1/16.5 MB 4.1 MB/s eta 0:00:03\n",
      "   --------------- ------------------------ 6.2/16.5 MB 4.1 MB/s eta 0:00:03\n",
      "   --------------- ------------------------ 6.4/16.5 MB 4.1 MB/s eta 0:00:03\n",
      "   --------------- ------------------------ 6.6/16.5 MB 4.1 MB/s eta 0:00:03\n",
      "   ---------------- ----------------------- 6.8/16.5 MB 4.0 MB/s eta 0:00:03\n",
      "   ---------------- ----------------------- 7.0/16.5 MB 4.0 MB/s eta 0:00:03\n",
      "   ----------------- ---------------------- 7.2/16.5 MB 4.0 MB/s eta 0:00:03\n",
      "   ----------------- ---------------------- 7.3/16.5 MB 4.0 MB/s eta 0:00:03\n",
      "   ------------------ --------------------- 7.5/16.5 MB 4.0 MB/s eta 0:00:03\n",
      "   ------------------ --------------------- 7.7/16.5 MB 4.0 MB/s eta 0:00:03\n",
      "   ------------------- -------------------- 7.9/16.5 MB 4.0 MB/s eta 0:00:03\n",
      "   ------------------- -------------------- 8.1/16.5 MB 4.0 MB/s eta 0:00:03\n",
      "   ------------------- -------------------- 8.2/16.5 MB 4.0 MB/s eta 0:00:03\n",
      "   -------------------- ------------------- 8.4/16.5 MB 4.0 MB/s eta 0:00:03\n",
      "   -------------------- ------------------- 8.6/16.5 MB 4.0 MB/s eta 0:00:02\n",
      "   --------------------- ------------------ 8.8/16.5 MB 4.0 MB/s eta 0:00:02\n",
      "   --------------------- ------------------ 9.0/16.5 MB 4.0 MB/s eta 0:00:02\n",
      "   ---------------------- ----------------- 9.1/16.5 MB 4.0 MB/s eta 0:00:02\n",
      "   ---------------------- ----------------- 9.3/16.5 MB 4.0 MB/s eta 0:00:02\n",
      "   ----------------------- ---------------- 9.5/16.5 MB 4.0 MB/s eta 0:00:02\n",
      "   ----------------------- ---------------- 9.7/16.5 MB 4.0 MB/s eta 0:00:02\n",
      "   ----------------------- ---------------- 9.9/16.5 MB 4.0 MB/s eta 0:00:02\n",
      "   ------------------------ --------------- 10.0/16.5 MB 4.0 MB/s eta 0:00:02\n",
      "   ------------------------ --------------- 10.2/16.5 MB 4.0 MB/s eta 0:00:02\n",
      "   ------------------------- -------------- 10.4/16.5 MB 4.0 MB/s eta 0:00:02\n",
      "   ------------------------- -------------- 10.6/16.5 MB 4.0 MB/s eta 0:00:02\n",
      "   -------------------------- ------------- 10.8/16.5 MB 4.0 MB/s eta 0:00:02\n",
      "   -------------------------- ------------- 10.9/16.5 MB 3.9 MB/s eta 0:00:02\n",
      "   -------------------------- ------------- 11.1/16.5 MB 3.9 MB/s eta 0:00:02\n",
      "   --------------------------- ------------ 11.3/16.5 MB 3.9 MB/s eta 0:00:02\n",
      "   --------------------------- ------------ 11.5/16.5 MB 3.9 MB/s eta 0:00:02\n",
      "   ---------------------------- ----------- 11.7/16.5 MB 3.9 MB/s eta 0:00:02\n",
      "   ---------------------------- ----------- 11.8/16.5 MB 3.9 MB/s eta 0:00:02\n",
      "   ----------------------------- ---------- 12.0/16.5 MB 3.9 MB/s eta 0:00:02\n",
      "   ----------------------------- ---------- 12.2/16.5 MB 3.9 MB/s eta 0:00:02\n",
      "   ------------------------------ --------- 12.4/16.5 MB 3.9 MB/s eta 0:00:02\n",
      "   ------------------------------ --------- 12.6/16.5 MB 3.9 MB/s eta 0:00:02\n",
      "   ------------------------------ --------- 12.8/16.5 MB 3.9 MB/s eta 0:00:01\n",
      "   ------------------------------- -------- 12.9/16.5 MB 3.9 MB/s eta 0:00:01\n",
      "   ------------------------------- -------- 13.1/16.5 MB 3.9 MB/s eta 0:00:01\n",
      "   -------------------------------- ------- 13.3/16.5 MB 3.9 MB/s eta 0:00:01\n",
      "   -------------------------------- ------- 13.5/16.5 MB 3.9 MB/s eta 0:00:01\n",
      "   --------------------------------- ------ 13.7/16.5 MB 3.9 MB/s eta 0:00:01\n",
      "   --------------------------------- ------ 13.8/16.5 MB 4.1 MB/s eta 0:00:01\n",
      "   --------------------------------- ------ 14.0/16.5 MB 4.0 MB/s eta 0:00:01\n",
      "   ---------------------------------- ----- 14.2/16.5 MB 4.0 MB/s eta 0:00:01\n",
      "   ---------------------------------- ----- 14.4/16.5 MB 4.0 MB/s eta 0:00:01\n",
      "   ----------------------------------- ---- 14.6/16.5 MB 3.9 MB/s eta 0:00:01\n",
      "   ----------------------------------- ---- 14.7/16.5 MB 3.9 MB/s eta 0:00:01\n",
      "   ------------------------------------ --- 14.9/16.5 MB 3.9 MB/s eta 0:00:01\n",
      "   ------------------------------------ --- 15.1/16.5 MB 3.9 MB/s eta 0:00:01\n",
      "   ------------------------------------- -- 15.3/16.5 MB 3.9 MB/s eta 0:00:01\n",
      "   ------------------------------------- -- 15.5/16.5 MB 3.9 MB/s eta 0:00:01\n",
      "   ------------------------------------- -- 15.7/16.5 MB 3.9 MB/s eta 0:00:01\n",
      "   -------------------------------------- - 15.8/16.5 MB 3.9 MB/s eta 0:00:01\n",
      "   -------------------------------------- - 16.0/16.5 MB 3.9 MB/s eta 0:00:01\n",
      "   ---------------------------------------  16.2/16.5 MB 3.9 MB/s eta 0:00:01\n",
      "   ---------------------------------------  16.4/16.5 MB 3.9 MB/s eta 0:00:01\n",
      "   ---------------------------------------  16.5/16.5 MB 3.9 MB/s eta 0:00:01\n",
      "   ---------------------------------------  16.5/16.5 MB 3.9 MB/s eta 0:00:01\n",
      "   ---------------------------------------- 16.5/16.5 MB 3.8 MB/s eta 0:00:00\n",
      "Installing collected packages: numpy\n",
      "Successfully installed numpy-2.0.0\n"
     ]
    }
   ],
   "source": [
    "pip install numpy"
   ]
  },
  {
   "cell_type": "code",
   "execution_count": 6,
   "metadata": {},
   "outputs": [
    {
     "name": "stdout",
     "output_type": "stream",
     "text": [
      "[2 3 4 5 6]\n"
     ]
    }
   ],
   "source": [
    "import numpy as np\n",
    "\n",
    "arr = np.array((1, 2, 3, 4, 5))\n",
    "\n",
    "print(arr + 1)"
   ]
  },
  {
   "cell_type": "markdown",
   "metadata": {},
   "source": [
    "Q7. Can array-to-scalar operations use combined operation-assign operators (such as += or *=)? What is the outcome?\n",
    "\n",
    "Answer: NO"
   ]
  },
  {
   "cell_type": "code",
   "execution_count": 7,
   "metadata": {},
   "outputs": [
    {
     "ename": "SyntaxError",
     "evalue": "invalid syntax (4216562642.py, line 5)",
     "output_type": "error",
     "traceback": [
      "\u001b[1;36m  Cell \u001b[1;32mIn[7], line 5\u001b[1;36m\u001b[0m\n\u001b[1;33m    a = arr += 1\u001b[0m\n\u001b[1;37m            ^\u001b[0m\n\u001b[1;31mSyntaxError\u001b[0m\u001b[1;31m:\u001b[0m invalid syntax\n"
     ]
    }
   ],
   "source": [
    "#using scalar operations error came\n",
    "import numpy as np\n",
    "\n",
    "arr = np.array((1, 2, 3, 4, 5))\n",
    "a = arr += 1\n",
    "print(a)"
   ]
  },
  {
   "cell_type": "markdown",
   "metadata": {},
   "source": [
    "Q8. Does a numpy array contain fixed-length strings? What happens if you allocate a longer string to one of these arrays?\n",
    "\n",
    "Answer: NumPy arrays have a fixed size at creation, unlike Python lists (which can grow dynamically). Changing the size of an ndarray will create a new array and delete the original. The elements in a NumPy array are all required to be of the same data type, and thus will be the same size in memory. if longer strings is allocateed it might cause a computation problem basically increse the time complexity.\n",
    "\n",
    "Q9. What happens when you combine two numpy arrays using an operation like addition (+) or multiplication (*)? What are the conditions for combining two numpy arrays?"
   ]
  },
  {
   "cell_type": "code",
   "execution_count": 8,
   "metadata": {},
   "outputs": [
    {
     "name": "stdout",
     "output_type": "stream",
     "text": [
      "[[ 6  8]\n",
      " [10 12]]\n",
      "\n",
      " [[ 5 12]\n",
      " [21 32]]\n"
     ]
    }
   ],
   "source": [
    "import numpy as np\n",
    "\n",
    "arr1 = np.array([[1, 2], [3, 4]])\n",
    "\n",
    "arr2 = np.array([[5, 6], [7, 8]])\n",
    "\n",
    "arr = arr1+arr2\n",
    "arr1 = arr1*arr2\n",
    "\n",
    "print(arr)\n",
    "print(\"\\n\",arr1)"
   ]
  },
  {
   "cell_type": "markdown",
   "metadata": {},
   "source": [
    "NumPy's concatenate function can be used to concatenate two arrays either row-wise or column-wise. Concatenate function can take two or more arrays of the same shape and by default it concatenates row-wise i.e. axis=0. The resulting array after row-wise concatenation is of the shape 6 x 3, i.e. 6 rows and 3 columns."
   ]
  },
  {
   "cell_type": "markdown",
   "metadata": {},
   "source": [
    "Q10. What is the best way to use a Boolean array to mask another array?\n",
    "\n",
    "Answer: Boolean masking is typically the most efficient way to quantify a sub-collection in a collection. Masking in python and data science is when you want manipulated data in a collection based on some criteria. The criteria you use is typically of a true or false nature, hence the boolean part.\n",
    "\n",
    "Using masked_where() function: Pass the two array in the function as a parameter then use numpy. ma. masked_where() function in which pass the condition for masking and array to be masked.\n",
    "\n",
    "Using masked_where(), getmask() and masked_array() function: Pass the two array in the function as a parameter then use numpy. ma.\n",
    "\n",
    "Q11. What are three different ways to get the standard deviation of a wide collection of data using both standard Python and its packages? Sort the three of them by how quickly they execute.\n",
    "\n",
    "Answer: one method is shown below standar then we can use pandas or using srpiting line by line to ding standard deviation. using pandas std() is generally nicer way and faster."
   ]
  },
  {
   "cell_type": "code",
   "execution_count": 9,
   "metadata": {},
   "outputs": [
    {
     "data": {
      "text/plain": [
       "2.4"
      ]
     },
     "execution_count": 9,
     "metadata": {},
     "output_type": "execute_result"
    }
   ],
   "source": [
    "import math\n",
    "def variance(data, ddof=0):\n",
    "  n = len(data)\n",
    "  mean = sum(data) / n\n",
    "  return sum((x - mean) ** 2 for x in data) / (n - ddof)\n",
    "\n",
    "\n",
    "def stdev(data):\n",
    "  var = variance(data)\n",
    "  std_dev = math.sqrt(var)\n",
    "  return std_dev\n",
    "\n",
    "stdev([4, 8, 6, 5, 3, 2, 8, 9, 2, 5])\n"
   ]
  },
  {
   "cell_type": "code",
   "execution_count": 10,
   "metadata": {},
   "outputs": [
    {
     "name": "stdout",
     "output_type": "stream",
     "text": [
      "[[[[-- 11]\n",
      "   [-- 22]\n",
      "   [3 33]]\n",
      "\n",
      "  [[4 44]\n",
      "   [5 55]\n",
      "   [6 66]]]\n",
      "\n",
      "\n",
      " [[[7 77]\n",
      "   [8 88]\n",
      "   [9 99]]\n",
      "\n",
      "  [[-- 32]\n",
      "   [-- 33]\n",
      "   [-- 34]]]]\n"
     ]
    }
   ],
   "source": [
    "# Q12. What is the dimensionality of a Boolean mask-generated array? \n",
    "# \n",
    "# Answer: it remain the same. Example below:\n",
    "\n",
    "import numpy as np\n",
    "\n",
    "arr = np.asarray([[[[1, 11], [2, 22], [3, 33]],\n",
    "                   [[4, 44], [5, 55], [6, 66]]],\n",
    "                  [[[7, 77], [8, 88], [9, 99]],\n",
    "                   [[0, 32], [1, 33], [2, 34]]]])\n",
    "\n",
    "masked_arr = np.ma.masked_less(arr, 3)\n",
    "\n",
    "print(masked_arr)"
   ]
  },
  {
   "cell_type": "code",
   "execution_count": null,
   "metadata": {},
   "outputs": [],
   "source": []
  }
 ],
 "metadata": {
  "kernelspec": {
   "display_name": "Python 3",
   "language": "python",
   "name": "python3"
  },
  "language_info": {
   "codemirror_mode": {
    "name": "ipython",
    "version": 3
   },
   "file_extension": ".py",
   "mimetype": "text/x-python",
   "name": "python",
   "nbconvert_exporter": "python",
   "pygments_lexer": "ipython3",
   "version": "3.11.9"
  }
 },
 "nbformat": 4,
 "nbformat_minor": 2
}
