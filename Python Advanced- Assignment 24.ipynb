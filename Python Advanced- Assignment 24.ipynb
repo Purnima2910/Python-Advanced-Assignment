{
 "cells": [
  {
   "cell_type": "markdown",
   "metadata": {},
   "source": [
    "Q1. Is it permissible to use several import statements to import the same module? What would the goal be? Can you think of a situation where it would be beneficial?\n",
    "\n",
    "Answer: If a module has already been imported, it's not loaded again. we will simply get a reference to the module that has already been imported.\n",
    "\n",
    "Q2. What are some of a module's characteristics? (Name at least one.)\n",
    "\n",
    "Answer: Characteristics of Modules\n",
    "\n",
    "Modules contain instructions, processing logic, and data.\n",
    "Modules can be separately compiled and stored in a library.\n",
    "Modules can be included in a program.\n",
    "Module segments can be used by invoking a name and some parameters.\n",
    "Module segments can be used by other modules.\n",
    "Q3. Circular importing, such as when two modules import each other, can lead to dependencies and bugs that aren't visible. How can you go about creating a program that avoids mutual importing?\n",
    "\n",
    "Answer: Circular importing is a form of circular dependency that is created with the import statement in Python.\n",
    "\n",
    "ircular imports are the result of bad designs. A deeper analysis of the program could have concluded that the dependency isn't actually required, or that the depended functionality can be moved to different modules that wouldn't contain the circular reference.\n",
    "\n",
    "A simple solution is that sometimes both modules can just be merged into a single, larger module.\n",
    "\n",
    "Q4. Why is _ all _ in Python?\n",
    "\n",
    "Answer: The all tells the semantically “public” names from the module. If there is a name in all, the users are expected to use it, and they can expect that it will not change. By default, Python will export all names that do not start with an _. we certainly could rely on this mechanism.\n",
    "\n",
    "Q5. In what situation is it useful to refer to the _ name _ attribute or the string '_ main _'?\n",
    "\n",
    "Answer: name is a built-in variable which evaluates to the name of the current module. Thus it can be used to check whether the current script is being run on its own or being imported somewhere else by combining it with if statement\n",
    "\n",
    "Q6. What are some of the benefits of attaching a program counter to the RPN interpreter application, which interprets an RPN script line by line?\n",
    "\n",
    "Answer: An advantage of reverse Polish notation is that it removes the need for parentheses that are required by infix notation. While 3 − 4 × 5 can also be written 3 − (4 × 5), that means something quite different from (3 − 4) × 5. A program counter is also known as an instruction counter, instruction pointer, instruction address register or sequence control register. It is a digital counter needed for faster execution of tasks as well as for tracking the current execution point\n",
    "\n",
    "Q7. What are the minimum expressions or statements (or both) that you'd need to render a basic programming language like RPN primitive but complete— that is, capable of carrying out any computerised task theoretically possible?\n",
    "\n",
    "Answer:"
   ]
  },
  {
   "cell_type": "code",
   "execution_count": null,
   "metadata": {},
   "outputs": [],
   "source": []
  }
 ],
 "metadata": {
  "language_info": {
   "name": "python"
  }
 },
 "nbformat": 4,
 "nbformat_minor": 2
}
