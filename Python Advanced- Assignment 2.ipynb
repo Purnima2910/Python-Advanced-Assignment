{
 "cells": [
  {
   "cell_type": "code",
   "execution_count": 1,
   "metadata": {},
   "outputs": [],
   "source": [
    "# Q1. What is the relationship between classes and modules?\n",
    "\n",
    "## A module in Python is a single file that contains Python code.\n",
    "## It can define functions, classes, and variables, and can be imported into other Python files or scripts to be used.\n",
    "## To create a module, simply create a new .py file and write your Python code inside it. You can then import the module into other files using the import statement. \n",
    "##  For example, if you have a module named “mymodule.py”, you can import it into another file using the following code:\n",
    "\n",
    "###  import mymodule\n",
    "\n",
    "## Once the module is imported, you can access its functions, classes, and variables using the dot notation. \n",
    "## For example, if the module “mymodule.py” defines a function named “myfunction()”, you can call that function using the following code: mymodule.myfunction()\n",
    "\n",
    "## A class is a blueprint for creating objects (a particular data structure), providing initial values for state (member variables or attributes), and implementations of behavior (member functions or methods).\n",
    "\n",
    "## The class is defined using the “class” keyword, followed by the name of the class. The class definition usually contains a number of class variables and class methods.\n",
    "\n",
    "## A class variable is a variable that is shared by all instances of a class. Class variables are defined within the class but outside of any of the class’s methods."
   ]
  },
  {
   "cell_type": "code",
   "execution_count": null,
   "metadata": {},
   "outputs": [],
   "source": [
    "# Q2. How do you make instances and classes?\n",
    "\n",
    "# The class keyword indicates that you are creating a class followed by the name of the class.\n",
    "# ex- class Vehicle:\n",
    "#        return\n",
    "# \n",
    "# To create instances of a class, you call the class using class name and pass in whatever arguments its __init__ method accepts.\n",
    "# class Vehicle:\n",
    "#    def __init__(self, name, company):\n",
    "#        self.name = name\n",
    "#        self.company = company\n"
   ]
  },
  {
   "cell_type": "code",
   "execution_count": null,
   "metadata": {},
   "outputs": [],
   "source": [
    "# Q3. Where and how should be class attributes created?\n",
    "\n",
    "# Class attributes are the variables defined directly in the class that are shared by all objects of the class.\n",
    "# The class attributes don’t associate with any specific instance of the class. But they’re shared by all instances of the class.\n",
    "# To define a class attribute, you place it outside of the __init__() method.\n",
    "# How- When you access an attribute via an instance of the class, Python searches for the attribute in the instance attribute list. \n",
    "# If the instance attribute list doesn’t have that attribute, Python continues looking up the attribute in the class attribute list. \n",
    "# Python returns the value of the attribute as long as it finds the attribute in the instance attribute list or class attribute list."
   ]
  },
  {
   "cell_type": "code",
   "execution_count": 2,
   "metadata": {},
   "outputs": [
    {
     "name": "stdout",
     "output_type": "stream",
     "text": [
      "20\n",
      "10\n"
     ]
    }
   ],
   "source": [
    "class Test:\n",
    "    x = 10   # class attribute\n",
    "\n",
    "    def __init__(self): \n",
    "        self.x = 20 #instance attribute\n",
    "\n",
    "\n",
    "test = Test()\n",
    "print(test.x)  # 20\n",
    "print(Test.x)  # 10"
   ]
  },
  {
   "cell_type": "code",
   "execution_count": 3,
   "metadata": {},
   "outputs": [],
   "source": [
    "# Q4. Where and how are instance attributes created?\n",
    "\n",
    "# An instance attribute, on the other hand, is unique to each instance of the class. It is defined inside the class’s methods and is initialised for each object created from the class. \n",
    "# Instance attributes represent the specific characteristics or state of individual objects.\n",
    "\n",
    "# Instance attributes are created within the __init__ method of the class. \n",
    "# They are unique to each object and are assigned values specific to that instance.\n",
    "\n",
    "class Car:\n",
    "    def __init__(self, color):\n",
    "        self.color = color  # 'color' is an instance attribute\n"
   ]
  },
  {
   "cell_type": "code",
   "execution_count": null,
   "metadata": {},
   "outputs": [],
   "source": [
    "# Q5. What does the term \"self\" in a Python class mean?\n",
    "\n",
    "# Self: Pointer to Current Object\n",
    "# Self represents the instance of the class. By using the “self”  we can access the attributes and methods of the class in Python.\n",
    "#  Whenever you call a method of an object created from a class, the object is automatically passed as the first argument using the “self” parameter. \n",
    "# This enables you to modify the object’s properties and execute tasks unique to that particular instance."
   ]
  },
  {
   "cell_type": "code",
   "execution_count": null,
   "metadata": {},
   "outputs": [],
   "source": [
    "# Q6. How does a Python class handle operator overloading?\n",
    "\n",
    "#   Operator Overloading means giving extended meaning beyond their predefined operational meaning.\n",
    "#  For example operator + is used to add two integers as well as join two strings and merge two lists.\n",
    "#  It is achievable because ‘+’ operator is overloaded by int class and str class\n",
    "#  The same built-in operator or function shows different behavior for objects of different classes, this is called Operator Overloading. "
   ]
  },
  {
   "cell_type": "code",
   "execution_count": null,
   "metadata": {},
   "outputs": [],
   "source": [
    "# Q7. When do you consider allowing operator overloading of your classes?"
   ]
  },
  {
   "cell_type": "code",
   "execution_count": null,
   "metadata": {},
   "outputs": [],
   "source": [
    "# Q8. What is the most popular form of operator overloading?\n",
    "\n",
    "# The most common use of the addition operator '+' is for concatenating and combining two different strings. "
   ]
  },
  {
   "cell_type": "code",
   "execution_count": null,
   "metadata": {},
   "outputs": [],
   "source": [
    "# Q9. What are the two most important concepts to grasp in order to comprehend Python OOP code?\n",
    "\n",
    "# Inheritance and polymorphism are the core concepts of OOP that enable efficient and consistent code reuse."
   ]
  }
 ],
 "metadata": {
  "kernelspec": {
   "display_name": "base",
   "language": "python",
   "name": "python3"
  },
  "language_info": {
   "codemirror_mode": {
    "name": "ipython",
    "version": 3
   },
   "file_extension": ".py",
   "mimetype": "text/x-python",
   "name": "python",
   "nbconvert_exporter": "python",
   "pygments_lexer": "ipython3",
   "version": "3.11.7"
  }
 },
 "nbformat": 4,
 "nbformat_minor": 2
}
