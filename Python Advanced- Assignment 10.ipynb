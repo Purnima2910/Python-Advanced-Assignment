{
 "cells": [
  {
   "cell_type": "markdown",
   "metadata": {},
   "source": [
    "Q1. What is the difference between getattr and getattribute?\n",
    "\n",
    "        getattribute: Is used to retrieve an attribute from an instance. \n",
    "        \n",
    "        getattr: Is executed as the last resource when attribute is not found in an object."
   ]
  },
  {
   "cell_type": "markdown",
   "metadata": {},
   "source": [
    "Q2. What is the difference between properties and descriptors?\n",
    "\n",
    "Answer: Descriptors are a low-level mechanism that lets us hook into an object's attributes being accessed.\n",
    "\n",
    " Properties are a high-level application of this. that is, properties are implemented using descriptors."
   ]
  },
  {
   "cell_type": "markdown",
   "metadata": {},
   "source": [
    "Q3. What are the key differences in functionality between getattr and getattribute, as well as properties and descriptors?\n",
    "\n",
    "Answer: A key difference between getattr and getattribute is that getattr is only invoked if the attribute wasn't found the usual ways. It's good for implementing a fallback for missing attributes and is probably the one of two you want."
   ]
  },
  {
   "cell_type": "markdown",
   "metadata": {},
   "source": []
  }
 ],
 "metadata": {
  "kernelspec": {
   "display_name": "Python 3",
   "language": "python",
   "name": "python3"
  },
  "language_info": {
   "name": "python",
   "version": "3.11.9"
  }
 },
 "nbformat": 4,
 "nbformat_minor": 2
}
