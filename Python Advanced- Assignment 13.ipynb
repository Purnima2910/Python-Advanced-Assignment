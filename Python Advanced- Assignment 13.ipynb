{
 "cells": [
  {
   "cell_type": "markdown",
   "metadata": {},
   "source": [
    "Q1. Can you create a programme or function that employs both positive and negative indexing? Is there any repercussion if you do so?\n",
    "\n",
    "Answers: Below is a basic program showing positive and negative indexing. no."
   ]
  },
  {
   "cell_type": "code",
   "execution_count": 2,
   "metadata": {},
   "outputs": [
    {
     "name": "stdout",
     "output_type": "stream",
     "text": [
      "P\n",
      "h\n"
     ]
    }
   ],
   "source": [
    "def name():\n",
    "\n",
    "  greetings = \"Purnima SIngh\"\n",
    "  print(greetings[0]) \n",
    "  print(greetings[-1])\n",
    "\n",
    "name()\n",
    "     "
   ]
  },
  {
   "cell_type": "markdown",
   "metadata": {},
   "source": [
    "Q2. What is the most effective way of starting with 1,000 elements in a Python list? Assume that all elements should be set to the same value.\n",
    "\n",
    "Answer: list comprehension and * operator are fastest followed by while and for loop for loop in list."
   ]
  },
  {
   "cell_type": "markdown",
   "metadata": {},
   "source": [
    "Q3. How do you slice a list to get any other part while missing the rest? (For example, suppose you want to make a new list with the elements first, third, fifth, seventh, and so on.)\n"
   ]
  },
  {
   "cell_type": "code",
   "execution_count": 3,
   "metadata": {},
   "outputs": [
    {
     "name": "stdout",
     "output_type": "stream",
     "text": [
      "[1, 3, 5, 7, 9, 11]\n"
     ]
    }
   ],
   "source": [
    "b = [1,2,3,4,5,6,7,8,9,10,11,12]\n",
    "print(b[::2])"
   ]
  },
  {
   "cell_type": "markdown",
   "metadata": {},
   "source": [
    "Q4. Explain the distinctions between indexing and slicing.\n",
    "\n",
    "Answer: \n",
    "- “Indexing” means referring to an element of an iterable by its position within the iterable. \n",
    "- “Slicing” means getting a subset of elements from an iterable based on their indices."
   ]
  },
  {
   "cell_type": "markdown",
   "metadata": {},
   "source": [
    "Q5. What happens if one of the slicing expression's indexes is out of range?\n",
    "\n",
    "Answer: empty list comes"
   ]
  },
  {
   "cell_type": "code",
   "execution_count": 5,
   "metadata": {},
   "outputs": [
    {
     "name": "stdout",
     "output_type": "stream",
     "text": [
      "[]\n"
     ]
    }
   ],
   "source": [
    "b = [1,2,3,4,5,6,7,8,9,10,11,12]\n",
    "print(b[34:44:1])"
   ]
  },
  {
   "cell_type": "markdown",
   "metadata": {},
   "source": [
    "Q6. If you pass a list to a function, and if you want the function to be able to change the values of the list—so that the list is different after the function returns—what action should you avoid?\n",
    "\n",
    "Answer: the list will change list are mutable but we can also prevent that by creating a deepcopy of it before."
   ]
  },
  {
   "cell_type": "markdown",
   "metadata": {},
   "source": [
    "Q7. What is the concept of an unbalanced matrix?\n",
    "\n",
    "Answer: A matrix is balanced if all cells in the matrix are balanced and a cell of the matrix is balanced if the number of cells in that matrix that are adjacent to that cell is strictly greater than the value written in this cell. .\n",
    "\n",
    "Input: N = 3, M = 3\n",
    "\n",
    "mat[][] = {{1, 2, 3},\n",
    "\n",
    "{4, 5, 6},\n",
    "\n",
    "{7, 8, 9}}\n",
    "\n",
    "Output: Unbalanced\n",
    "Explanation: Each cell of the given grid is not stable, so the overall grid is unbalanced."
   ]
  },
  {
   "cell_type": "markdown",
   "metadata": {},
   "source": [
    "Q8. Why is it necessary to use either list comprehension or a loop to create arbitrarily large matrices?\n",
    "\n",
    "Answer: list comprehension or a loop specifically list comprehension can simplify our code, but if you put too much logic inside, they will instead become harder to read and understand. loop specifically are also fast as we have seen in previous questions using time."
   ]
  },
  {
   "cell_type": "markdown",
   "metadata": {},
   "source": []
  }
 ],
 "metadata": {
  "kernelspec": {
   "display_name": "Python 3",
   "language": "python",
   "name": "python3"
  },
  "language_info": {
   "codemirror_mode": {
    "name": "ipython",
    "version": 3
   },
   "file_extension": ".py",
   "mimetype": "text/x-python",
   "name": "python",
   "nbconvert_exporter": "python",
   "pygments_lexer": "ipython3",
   "version": "3.11.9"
  }
 },
 "nbformat": 4,
 "nbformat_minor": 2
}
